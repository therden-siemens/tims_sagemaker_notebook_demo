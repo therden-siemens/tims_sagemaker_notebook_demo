{
 "cells": [
  {
   "cell_type": "markdown",
   "metadata": {},
   "source": [
    "# Spam detector example - Multinomial Naive Bayes"
   ]
  },
  {
   "cell_type": "code",
   "execution_count": 1,
   "metadata": {},
   "outputs": [
    {
     "name": "stdout",
     "output_type": "stream",
     "text": [
      "Requirement already satisfied: skl2onnx in /home/ec2-user/anaconda3/envs/python3/lib/python3.6/site-packages (1.7.0)\n",
      "Requirement already satisfied: onnx>=1.2.1 in /home/ec2-user/anaconda3/envs/python3/lib/python3.6/site-packages (from skl2onnx) (1.8.1)\n",
      "Requirement already satisfied: scipy>=1.0 in /home/ec2-user/anaconda3/envs/python3/lib/python3.6/site-packages (from skl2onnx) (1.4.1)\n",
      "Requirement already satisfied: six in /home/ec2-user/anaconda3/envs/python3/lib/python3.6/site-packages (from skl2onnx) (1.15.0)\n",
      "Requirement already satisfied: scikit-learn>=0.19 in /home/ec2-user/anaconda3/envs/python3/lib/python3.6/site-packages (from skl2onnx) (0.22.1)\n",
      "Requirement already satisfied: onnxconverter-common>=1.5.1 in /home/ec2-user/anaconda3/envs/python3/lib/python3.6/site-packages (from skl2onnx) (1.7.0)\n",
      "Requirement already satisfied: numpy>=1.15 in /home/ec2-user/anaconda3/envs/python3/lib/python3.6/site-packages (from skl2onnx) (1.19.4)\n",
      "Requirement already satisfied: protobuf in /home/ec2-user/anaconda3/envs/python3/lib/python3.6/site-packages (from skl2onnx) (3.14.0)\n",
      "Requirement already satisfied: typing-extensions>=3.6.2.1 in /home/ec2-user/anaconda3/envs/python3/lib/python3.6/site-packages (from onnx>=1.2.1->skl2onnx) (3.7.4.3)\n",
      "Requirement already satisfied: protobuf in /home/ec2-user/anaconda3/envs/python3/lib/python3.6/site-packages (from skl2onnx) (3.14.0)\n",
      "Requirement already satisfied: numpy>=1.15 in /home/ec2-user/anaconda3/envs/python3/lib/python3.6/site-packages (from skl2onnx) (1.19.4)\n",
      "Requirement already satisfied: six in /home/ec2-user/anaconda3/envs/python3/lib/python3.6/site-packages (from skl2onnx) (1.15.0)\n",
      "Requirement already satisfied: onnx>=1.2.1 in /home/ec2-user/anaconda3/envs/python3/lib/python3.6/site-packages (from skl2onnx) (1.8.1)\n",
      "Requirement already satisfied: numpy>=1.15 in /home/ec2-user/anaconda3/envs/python3/lib/python3.6/site-packages (from skl2onnx) (1.19.4)\n",
      "Requirement already satisfied: protobuf in /home/ec2-user/anaconda3/envs/python3/lib/python3.6/site-packages (from skl2onnx) (3.14.0)\n",
      "Requirement already satisfied: six in /home/ec2-user/anaconda3/envs/python3/lib/python3.6/site-packages (from skl2onnx) (1.15.0)\n",
      "Requirement already satisfied: numpy>=1.15 in /home/ec2-user/anaconda3/envs/python3/lib/python3.6/site-packages (from skl2onnx) (1.19.4)\n",
      "Requirement already satisfied: scipy>=1.0 in /home/ec2-user/anaconda3/envs/python3/lib/python3.6/site-packages (from skl2onnx) (1.4.1)\n",
      "Requirement already satisfied: joblib>=0.11 in /home/ec2-user/anaconda3/envs/python3/lib/python3.6/site-packages (from scikit-learn>=0.19->skl2onnx) (0.14.1)\n",
      "Requirement already satisfied: numpy>=1.15 in /home/ec2-user/anaconda3/envs/python3/lib/python3.6/site-packages (from skl2onnx) (1.19.4)\n",
      "\u001b[33mWARNING: You are using pip version 20.3; however, version 21.0.1 is available.\n",
      "You should consider upgrading via the '/home/ec2-user/anaconda3/envs/python3/bin/python -m pip install --upgrade pip' command.\u001b[0m\n",
      "Requirement already satisfied: onnx in /home/ec2-user/anaconda3/envs/python3/lib/python3.6/site-packages (1.8.1)\n",
      "Requirement already satisfied: six in /home/ec2-user/anaconda3/envs/python3/lib/python3.6/site-packages (from onnx) (1.15.0)\n",
      "Requirement already satisfied: protobuf in /home/ec2-user/anaconda3/envs/python3/lib/python3.6/site-packages (from onnx) (3.14.0)\n",
      "Requirement already satisfied: numpy>=1.16.6 in /home/ec2-user/anaconda3/envs/python3/lib/python3.6/site-packages (from onnx) (1.19.4)\n",
      "Requirement already satisfied: typing-extensions>=3.6.2.1 in /home/ec2-user/anaconda3/envs/python3/lib/python3.6/site-packages (from onnx) (3.7.4.3)\n",
      "Requirement already satisfied: six in /home/ec2-user/anaconda3/envs/python3/lib/python3.6/site-packages (from onnx) (1.15.0)\n",
      "\u001b[33mWARNING: You are using pip version 20.3; however, version 21.0.1 is available.\n",
      "You should consider upgrading via the '/home/ec2-user/anaconda3/envs/python3/bin/python -m pip install --upgrade pip' command.\u001b[0m\n",
      "Requirement already satisfied: onnxruntime in /home/ec2-user/anaconda3/envs/python3/lib/python3.6/site-packages (1.6.0)\n",
      "Requirement already satisfied: protobuf in /home/ec2-user/anaconda3/envs/python3/lib/python3.6/site-packages (from onnxruntime) (3.14.0)\n",
      "Requirement already satisfied: numpy>=1.16.6 in /home/ec2-user/anaconda3/envs/python3/lib/python3.6/site-packages (from onnxruntime) (1.19.4)\n",
      "Requirement already satisfied: six>=1.9 in /home/ec2-user/anaconda3/envs/python3/lib/python3.6/site-packages (from protobuf->onnxruntime) (1.15.0)\n",
      "\u001b[33mWARNING: You are using pip version 20.3; however, version 21.0.1 is available.\n",
      "You should consider upgrading via the '/home/ec2-user/anaconda3/envs/python3/bin/python -m pip install --upgrade pip' command.\u001b[0m\n"
     ]
    }
   ],
   "source": [
    "import sys\n",
    "\n",
    "!{sys.executable} -m pip install skl2onnx\n",
    "!{sys.executable} -m pip install onnx\n",
    "!{sys.executable} -m pip install onnxruntime"
   ]
  },
  {
   "cell_type": "code",
   "execution_count": 4,
   "metadata": {},
   "outputs": [
    {
     "name": "stdout",
     "output_type": "stream",
     "text": [
      "0.9870782483847811\n"
     ]
    },
    {
     "name": "stderr",
     "output_type": "stream",
     "text": [
      "/home/ec2-user/anaconda3/envs/python3/lib/python3.6/site-packages/skl2onnx/operator_converters/text_vectoriser.py:179: UserWarning: Converter for TfidfVectorizer will use scikit-learn regular expression by default in version 1.6.\n",
      "  UserWarning)\n",
      "/home/ec2-user/anaconda3/envs/python3/lib/python3.6/site-packages/skl2onnx/common/_container.py:569: UserWarning: Unable to find operator 'Tokenizer' in domain 'com.microsoft' in ONNX, op_version is forced to 1.\n",
      "  op_type, domain))\n"
     ]
    }
   ],
   "source": [
    "from skl2onnx import to_onnx\n",
    "from skl2onnx.common.data_types import StringTensorType\n",
    "from sklearn.feature_extraction.text import CountVectorizer\n",
    "from sklearn.metrics import accuracy_score\n",
    "from sklearn.model_selection import train_test_split\n",
    "from sklearn.naive_bayes import MultinomialNB\n",
    "from sklearn.pipeline import make_pipeline\n",
    "\n",
    "import onnxruntime as rt\n",
    "import pandas as pd\n",
    "\n",
    "df = pd.read_csv(\"spam.csv\", encoding=\"L1\")\n",
    "\n",
    "X = df[\"v2\"].values\n",
    "y = df[\"v1\"].values\n",
    "\n",
    "X_train, X_test, y_train, y_test = train_test_split(X, y, random_state=345)\n",
    "\n",
    "# create a pipeline object\n",
    "pipe = make_pipeline(\n",
    "    CountVectorizer(binary=True),\n",
    "    MultinomialNB()\n",
    ")\n",
    "\n",
    "# fit the whole pipeline\n",
    "pipe.fit(X_train, y_train)\n",
    "\n",
    "# we can now use it like any other estimator\n",
    "print(accuracy_score(pipe.predict(X_test), y_test))\n",
    "\n",
    "onxx_pipeline = to_onnx(pipe, initial_types=[('message', StringTensorType([None, 1]))])\n",
    "\n",
    "with open(\"spam_nb.onnx\", \"wb\") as f:\n",
    "    f.write(onxx_pipeline.SerializeToString())"
   ]
  },
  {
   "cell_type": "code",
   "execution_count": 5,
   "metadata": {},
   "outputs": [],
   "source": [
    "sess = rt.InferenceSession(\"spam_nb.onnx\")\n",
    "inputs = {'message': [[\"SIX chances to win CASH! From 100 to 20,000 pounds txt> CSH11 and send to 87575. Cost 150p/day, 6days, 16+ TsandCs apply Reply HL 4 info\"]]}\n",
    "\n",
    "pred_onx = sess.run(None, inputs)"
   ]
  },
  {
   "cell_type": "code",
   "execution_count": 6,
   "metadata": {},
   "outputs": [
    {
     "name": "stdout",
     "output_type": "stream",
     "text": [
      "prediction ['spam']\n",
      "probabilites [{'ham': 8.615117129305013e-23, 'spam': 1.0}]\n"
     ]
    }
   ],
   "source": [
    "print(\"prediction\", pred_onx[0])\n",
    "print(\"probabilites\", pred_onx[1])"
   ]
  },
  {
   "cell_type": "code",
   "execution_count": null,
   "metadata": {},
   "outputs": [],
   "source": []
  }
 ],
 "metadata": {
  "kernelspec": {
   "display_name": "conda_python3",
   "language": "python",
   "name": "conda_python3"
  },
  "language_info": {
   "codemirror_mode": {
    "name": "ipython",
    "version": 3
   },
   "file_extension": ".py",
   "mimetype": "text/x-python",
   "name": "python",
   "nbconvert_exporter": "python",
   "pygments_lexer": "ipython3",
   "version": "3.6.10"
  }
 },
 "nbformat": 4,
 "nbformat_minor": 4
}
